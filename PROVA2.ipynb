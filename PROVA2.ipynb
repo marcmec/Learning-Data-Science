{
  "nbformat": 4,
  "nbformat_minor": 0,
  "metadata": {
    "colab": {
      "name": "PROVA2.ipynb",
      "provenance": [],
      "authorship_tag": "ABX9TyPfVmbL8IIdHVAnnVldCw5c",
      "include_colab_link": true
    },
    "kernelspec": {
      "name": "python3",
      "display_name": "Python 3"
    }
  },
  "cells": [
    {
      "cell_type": "markdown",
      "metadata": {
        "id": "view-in-github",
        "colab_type": "text"
      },
      "source": [
        "<a href=\"https://colab.research.google.com/github/marcmec/Learning-Data-Science/blob/main/PROVA2.ipynb\" target=\"_parent\"><img src=\"https://colab.research.google.com/assets/colab-badge.svg\" alt=\"Open In Colab\"/></a>"
      ]
    },
    {
      "cell_type": "markdown",
      "metadata": {
        "id": "rRhcVbEYcXK4"
      },
      "source": [
        "PROVA 2\n",
        "\n",
        "Marcos Vinícius Silva Bento\n",
        "\n",
        "PPGI- CIÊNCIA DE DADOS\n",
        "\n",
        "Bruno Almeida Pimentel"
      ]
    },
    {
      "cell_type": "markdown",
      "metadata": {
        "id": "G81kxBUBcobU"
      },
      "source": [
        "---\n",
        "1. Com respeito à Análise de Agrupamento, cite um exemplo de aplicação\n",
        "onde é preferível utilizar agrupamento hierárquico. (1 ponto)\n",
        "\n",
        "A própria doença causada pelo covid-19, já que há uma relação quanto sintomas(parâmetros) a serem verificados, uma vez que há uma separação de grupos que se correlacionam.\n",
        "\n",
        "---\n",
        "2. Que tipos de alegações devemos fazer sobre os dados para que a\n",
        "modelagem usando Regressão Linear seja satisfatória? (2 pontos)\n",
        "\n",
        "Em dados que sejam sofrem alterações de acordo com outros dados, ou seja, 2 ou mais dados que são diretamente proporcionais, por exemplo, velocidade média, que altera de acordo com a distância e tempo.\n",
        "---\n",
        "3. Crie um conjunto de dados com 2 classes para mostrar:\n",
        "a. Uma classificação após usar Árvore de Decisão. (1 ponto)\n",
        "\n",
        "\n",
        "b. Uma regra gerada pela árvore (use pelo menos 2 atributos). (1\n",
        "ponto)\n",
        "---\n"
      ]
    },
    {
      "cell_type": "code",
      "metadata": {
        "id": "vZUjKX81gAiA"
      },
      "source": [
        "import numpy as np\n",
        "import pandas as pd\n",
        "from sklearn.tree import DecisionTreeClassifier,export_graphviz\n",
        "from sklearn.model_selection import train_test_split\n",
        "from sklearn import metrics\n",
        "from google.colab import files\n",
        "\n",
        "arquivo = files.upload()\n",
        "urlTest= 'sample_data/california_housing_test.csv'\n",
        "urlTreino = 'sample_data/california_housing_train.csv'\n",
        "classifica = DecisionTreeClassifier()"
      ],
      "execution_count": null,
      "outputs": []
    },
    {
      "cell_type": "markdown",
      "metadata": {
        "id": "fz3XMn7zknJW"
      },
      "source": [
        "---\n",
        "4. De que forma modelos para séries temporias podem ajudar na descoberta\n",
        "de informação? (2 pontos)\n",
        "\n",
        "A partir da variação do tempo, uma vez que esse modelo se utiliza de técnicas como \n",
        "\n",
        "Observação original: Longas ondas, mais ou menos regulares, em torno de uma linha de tendência\n",
        "\n",
        "Tendência: Capta elementos de longo prazo relacionados com a série de tempo\n",
        "\n",
        "Sazonalidade: Capta os padrões regulares da série de tempo\n",
        "\n",
        "Residual: Capta todos os efeitos que não foram incorporados pela série de tempo via os três componentes anteriormente citados, ou seja, é o resíduo\n",
        "\n",
        "---\n",
        "5. Mostre como um sistema usando a abordagem de Meta-aprendizado\n",
        "pode economizar tempo de processamento em cada um dos casos:\n",
        "\n",
        "---\n",
        "a. Recomendação de hiper-parâmetros. (1 ponto)\n",
        "\n",
        "Uma vez que os hiper-parâmetros controlam o processo de treinamento, está diretamente ligado a qualidade final do resultado, ao utilizar parâmetros relevantes para o problema em questão\n",
        "---\n",
        "b. Recomendação de modelos. (1 ponto)\n",
        "\n",
        "Isso parte da fase em que o cientista de dados está minerando, uma vez que ele identifica o melhor modelo a ser aplicado, a otimização tanto no código, quanto no resultado final é garantida.\n",
        "---\n",
        "6. Descreva como a Visualização de Dados pode ajudar o cientista de\n",
        "dados. (1 ponto)\n",
        "\n",
        "Quanto mais simples e objetivo for a forma de apresentação de dados, melhor para o cientista, dado que é necessário o esboço de tal coleta, ao menos uma separação simples dos dados, ou, a legibilidade através de gráficos, como também informações sobre o que pode conter no dados, uma vez que o cientista pode trabalhar com big data.\n",
        "---"
      ]
    }
  ]
}