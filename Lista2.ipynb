{
  "nbformat": 4,
  "nbformat_minor": 0,
  "metadata": {
    "colab": {
      "name": "Lista2.ipynb",
      "provenance": [],
      "authorship_tag": "ABX9TyN7O9F7UJ6RR6NJNOoe87cn",
      "include_colab_link": true
    },
    "kernelspec": {
      "name": "python3",
      "display_name": "Python 3"
    }
  },
  "cells": [
    {
      "cell_type": "markdown",
      "metadata": {
        "id": "view-in-github",
        "colab_type": "text"
      },
      "source": [
        "<a href=\"https://colab.research.google.com/github/marcmec/Learning-Data-Science/blob/main/Lista2.ipynb\" target=\"_parent\"><img src=\"https://colab.research.google.com/assets/colab-badge.svg\" alt=\"Open In Colab\"/></a>"
      ]
    },
    {
      "cell_type": "code",
      "metadata": {
        "id": "tML7zdqx1Yw6"
      },
      "source": [
        ""
      ],
      "execution_count": null,
      "outputs": []
    },
    {
      "cell_type": "markdown",
      "metadata": {
        "id": "oB3quviu1o0H"
      },
      "source": [
        "\n",
        "Lista 2\n",
        "\n",
        "Marcos Vinícius Silva Bento\n",
        "\n",
        "PPGI- CIÊNCIA DE DADOS\n",
        "\n",
        "Bruno Almeida Pimentel"
      ]
    },
    {
      "cell_type": "markdown",
      "metadata": {
        "id": "louDK_N31bOH"
      },
      "source": [
        "1. Explique cada uma das etapas da tarefa de agrupamento para a obtenção de\n",
        "resultados com qualidade. (1 ponto)\n",
        "---\n",
        "\n",
        "\n",
        "*    Agrupamento aglomerativo (agglomerative clustering):\n",
        "Cada item de dados é considerado como um grupo individual,\n",
        "e grupos são recursivamente fundidos at´e produzir um bom\n",
        "agrupamento final.\n",
        "Agrupamento por divis˜ao (divisive clustering):\n",
        "*   Inicialmente, o conjunto de todos os dados é considerado\n",
        "como sendo um único grupo e, em seguida ele é\n",
        "recursivamente dividido para produzir um bom agrupamento\n",
        "final.\n",
        "---\n",
        "2. Cite pelo menos uma aplicação de Regressão para cada uma das áreas:\n",
        "Mineração de Dados, Aprendizagem de Máquina e Ciência de Dados. (2 pontos)\n",
        "---\n",
        "regressão linear para aprendizagem de máquina - de forma direcionada, quando se tem dados que se correlacionam diretamente, exemplo: preço/produto\n",
        "e para mineração de dados, utiliza-se a regressao de forma nao direcionada, quando se tem vários grupos e é preciso achar padrões dado um conjunto de dados disperso.\n",
        "ciência de dados usa-se ambos os exemplos acima.\n",
        "\n",
        "---\n",
        "3. Qual a importância de modelos baseados em Árvores de Decisão para a\n",
        "extração de informação? (1 ponto)\n",
        "---\n",
        "Agrupamento de dados para melhor visualização no comportamento das variáveis.\n",
        "---\n",
        "4. Quais tipos de informação podemos extrair dos dados ao utilizar Séries\n",
        "Temporais? (1 ponto)\n",
        "---\n",
        "Padrão dos dados;\n",
        "Tendência;\n",
        "---\n",
        "5. Cite e descreva três aplicações de Meta-aprendizado como uma ferramenta para\n",
        "o cientista de dados. (1 ponto)\n",
        "---\n",
        "\n",
        "---\n"
      ]
    },
    {
      "cell_type": "markdown",
      "metadata": {
        "id": "3yH74OeX8HIN"
      },
      "source": [
        "6. Usando técnicas de Visualização de Dados, construa um gráfico a partir dos\n",
        "seguintes dados: (2 pontos)\n",
        "Janeiro Fevereiro Março Abril Maio Junho Julho Agosto Setembro Outubro Novenbro Dezembro\n",
        "Recebidos 160 184 241 149 180 161 132 202 160 139 149 177\n",
        "Processados 160 184 237 148 181 150 123 156 126 104 124 140"
      ]
    },
    {
      "cell_type": "code",
      "metadata": {
        "id": "I-bnc9En_AJp"
      },
      "source": [
        "from matplotlib.ticker import FuncFormatter\n",
        "import matplotlib.pyplot as plt\n",
        "import numpy as np"
      ],
      "execution_count": 9,
      "outputs": []
    },
    {
      "cell_type": "code",
      "metadata": {
        "id": "zMmldN6p8BTA"
      },
      "source": [
        " meuDado ={ 'mes':['Janeiro','Fevereiro', 'Março', 'Abril', 'Maio' ,\n",
        "           'Junho', 'Julho', 'Agosto', 'Setembro', 'Outubro', 'Novenbro', 'Dezembro'], \n",
        "           'Recebidos': [' 160', '184', '241', '149', '180', '161','132', '202', '160', '139', '149', '177'],\n",
        "           'processados':['160','184','237','148','181', '150', '123', '156', '126', '104', '124', '140'] }"
      ],
      "execution_count": 70,
      "outputs": []
    },
    {
      "cell_type": "code",
      "metadata": {
        "colab": {
          "base_uri": "https://localhost:8080/",
          "height": 281
        },
        "id": "Gu13aygj--dg",
        "outputId": "57fe64e6-5856-4599-d454-4523ca7e45c5"
      },
      "source": [
        "x = np.arange(len(meuDado['mes']))\n",
        "\n",
        "fig, ax = plt.subplots()\n",
        "recebe = ax.bar(x - 0.35/2, meuDado['Recebidos'], 0.35, label='recebidos')\n",
        "processa = ax.bar(x + 0.35/2, meuDado['processados'], 0.35, label='processados')\n",
        "ax.set_title('separacao de dados por mês')\n",
        "ax.set_xticklabels(meuDado['mes'])\n",
        "ax.legend()\n",
        "plt.show()"
      ],
      "execution_count": 71,
      "outputs": [
        {
          "output_type": "display_data",
          "data": {
            "image/png": "[encoded data removed]",
            "text/plain": [
              "<Figure size 432x288 with 1 Axes>"
            ]
          },
          "metadata": {
            "tags": [],
            "needs_background": "light"
          }
        }
      ]
    },
    {
      "cell_type": "markdown",
      "metadata": {
        "id": "8mT5i9O68Eij"
      },
      "source": [
        "7. Usando os dados temporais disponível no link a seguir sobre vendas de\n",
        "medicamentos na Austrália, que tipo de conclusões podemos obter? (2 pontos)\n",
        "https://github.com/bapimentel/Ciencia-de-Dados/blob/master/Dados/Drugs.csv"
      ]
    },
    {
      "cell_type": "code",
      "metadata": {
        "id": "_qbLvFUF8D-c"
      },
      "source": [
        ""
      ],
      "execution_count": null,
      "outputs": []
    }
  ]
}