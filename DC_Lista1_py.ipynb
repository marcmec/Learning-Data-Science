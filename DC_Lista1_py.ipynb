{
  "nbformat": 4,
  "nbformat_minor": 0,
  "metadata": {
    "colab": {
      "name": "DC-Lista1.py",
      "provenance": [],
      "authorship_tag": "ABX9TyPVujv4LL87VHYjZTQMLgns",
      "include_colab_link": true
    },
    "kernelspec": {
      "name": "python3",
      "display_name": "Python 3"
    }
  },
  "cells": [
    {
      "cell_type": "markdown",
      "metadata": {
        "id": "view-in-github",
        "colab_type": "text"
      },
      "source": [
        "<a href=\"https://colab.research.google.com/github/marcmec/Learning-Data-Science/blob/main/DC_Lista1_py.ipynb\" target=\"_parent\"><img src=\"https://colab.research.google.com/assets/colab-badge.svg\" alt=\"Open In Colab\"/></a>"
      ]
    },
    {
      "cell_type": "markdown",
      "metadata": {
        "id": "lObpcEQBYTE9"
      },
      "source": [
        "Lista 1\n",
        "\n",
        "Marcos Vinícius Silva Bento\n",
        "\n",
        "PPGI- CIÊNCIA DE DADOS\n",
        "\n",
        "Bruno Almeida Pimentel"
      ]
    },
    {
      "cell_type": "markdown",
      "metadata": {
        "id": "jj2niYkjYqdF"
      },
      "source": [
        "1) Qual a diferença entre Big Data e Ciência de Dados? (0,5 ponto)\n",
        "Utilizando os pilares do 4 V's :\n",
        "1- Volume \n",
        "\n",
        "2-Velocidade\n",
        "\n",
        "3- Variedade\n",
        "\n",
        "4- Veracidade.\n",
        "\n",
        "Através desses pilares, big data trata grandes quantidades de dados(1) da forma mais rápida possível (2), com uma variedade de informações(dados) (3) e tudo isso com dados verdadeiros (4). Então Big data é uma área de conhecimento, que estuda maneiras de se aplicar esses 4 pilares, e a partir desses dados executar alguma ação em alguma área que gere/receba dados.\n",
        "\n",
        "Já Ciência de Dados é outra área de conhecimentos que se utiliza da Big Data, estatísticas e realiza através de algumas técnicas específicas, análise de dados, assim, ciência de dados é utilizado para melhor tratar os dados, muito utilizada para identificar padrões e predizer resultados.\n"
      ]
    },
    {
      "cell_type": "markdown",
      "metadata": {
        "id": "ykZVI68h3LIn"
      },
      "source": [
        "2) De que forma Estatística, Mineração de Dados e Aprendizagem de\n",
        "Máquina interagem com Ciência de Dados? (1 ponto)\n",
        "\n",
        "Assim como na questão 1, ciência de dados reúne técnicas em que uma depende da outra para realizar suas ações, supondo que tenhamos uma situação que tenha uma grande quantidade de dados variados, aplica-se a mineração de dados, para uma melhor acertividade, utiliza-se métodos estatísticos, tais como regressão linear, por exemplo, para poder separar os outliers, e por último pode-se utilizar através de uma técnica de aprendizado de máquina (derivada da inteligência artificial), assim aplica-se ciêcia de dados, e o objetivo dependerá do desenvolvedor, o que normalmente é feito, aplica-se essas técnicas e faz-se uma predição em possíveis ambientes/situações."
      ]
    },
    {
      "cell_type": "markdown",
      "metadata": {
        "id": "jd7Fe74UEFZ0"
      },
      "source": [
        "3)Mostre a importância do conhecimento de domínio para o cientista de\n",
        "dados. (0,5 ponto)\n",
        "\n",
        "É de fundamental importância o cientista de dados saber observar os melhores locais de se extrair os dados, para que se possa obter resultados mais rapidamente. Outro fator importante, é saber minerar os dados através de algumas técnicas, principalmente utilizando estatísticas, o que normalmente ocorre é o cientista se deparar com uma grande quantidade de dados, e caso ele nao saiba aplicar métodos para se obter apenas os dados que lhe convém, o resultado final da sua pesquisa/aplicacao nao terá um nível de confianca satisfatório."
      ]
    },
    {
      "cell_type": "markdown",
      "metadata": {
        "id": "El1livjqDrG0"
      },
      "source": [
        "4) Crie um conjunto de dados com duas variáveis V1 e V2, tal que:\n",
        "\n",
        "a. Mediana de V1 < Média de V1 (0,5 ponto)\n",
        "\n",
        "b. Mediana de V2 > Média de V2 (0,5 ponto)"
      ]
    },
    {
      "cell_type": "code",
      "metadata": {
        "id": "UDlDg0vny5p8"
      },
      "source": [
        "import numpy as np\n",
        "import matplotlib.pyplot as plt\n",
        "from scipy import stats\n",
        "import seaborn as sns\n"
      ],
      "execution_count": 7,
      "outputs": []
    },
    {
      "cell_type": "code",
      "metadata": {
        "id": "p2XtG7M35OnB"
      },
      "source": [
        "V1= [1,2,5,10,25,34]\n",
        "V2= [-5,25,10,4,16,8]"
      ],
      "execution_count": 3,
      "outputs": []
    },
    {
      "cell_type": "code",
      "metadata": {
        "id": "8QSOsKrA5YHm"
      },
      "source": [
        "def media():\n",
        "  print('média de V1')\n",
        "  print(np.mean(V1),'\\n')\n",
        "  print('média V2')\n",
        "  print(np.mean(V2))\n",
        "  return\n",
        "def mediana():\n",
        "  print('mediana de V1')\n",
        "  print(np.median(V1),'\\n')\n",
        "  print('mediana de V2')\n",
        "  print(np.median(V2))\n",
        "  return"
      ],
      "execution_count": 12,
      "outputs": []
    },
    {
      "cell_type": "code",
      "metadata": {
        "id": "hGtCBRlX5SVl",
        "outputId": "39a5660d-8524-41bb-baf9-dd56a4c7ad59",
        "colab": {
          "base_uri": "https://localhost:8080/"
        }
      },
      "source": [
        "media()\n",
        "\n",
        "mediana()"
      ],
      "execution_count": null,
      "outputs": [
        {
          "output_type": "stream",
          "text": [
            "média de V1\n",
            "12.833333333333334 \n",
            "\n",
            "média V2\n",
            "9.666666666666666\n",
            "mediana de V1\n",
            "7.5 \n",
            "\n",
            "mediana de V2\n",
            "9.0\n"
          ],
          "name": "stdout"
        }
      ]
    },
    {
      "cell_type": "markdown",
      "metadata": {
        "id": "YqNLLDv8FIoL"
      },
      "source": [
        "5. Baseando-se no conjunto de dados criado na questão 4, crie uma função\n",
        "em Python que:\n",
        "\n",
        "a. Mostra o histograma de cada variável; (1 ponto)"
      ]
    },
    {
      "cell_type": "code",
      "metadata": {
        "id": "LXtsvKwa4-bE",
        "outputId": "88da01b6-3897-4022-b4f3-ba54763097c1",
        "colab": {
          "base_uri": "https://localhost:8080/",
          "height": 483
        }
      },
      "source": [
        "plt.figure(figsize=[10,8])\n",
        "n, bins, patches = plt.hist([V1, V2])\n",
        "plt.show()"
      ],
      "execution_count": 9,
      "outputs": [
        {
          "output_type": "display_data",
          "data": {
            "image/png": "[encoded data removed]",
            "text/plain": [
              "<Figure size 720x576 with 1 Axes>"
            ]
          },
          "metadata": {
            "tags": [],
            "needs_background": "light"
          }
        }
      ]
    },
    {
      "cell_type": "markdown",
      "metadata": {
        "id": "7KDg3K7rFUky"
      },
      "source": [
        "b. Verifica se as variáveis seguem uma distribuição Normal (use teste\n",
        "de hipótese) (1 ponto)"
      ]
    },
    {
      "cell_type": "markdown",
      "metadata": {
        "id": "NOmQC-mRYrgw"
      },
      "source": [
        "H0(nula) V1 E V2 seguem uma distribuição normal?"
      ]
    },
    {
      "cell_type": "code",
      "metadata": {
        "id": "5E5Dt1HsZmJa",
        "outputId": "ebca4308-1ef1-4399-a6cb-62396d5e347c",
        "colab": {
          "base_uri": "https://localhost:8080/",
          "height": 370
        }
      },
      "source": [
        "sns.distplot(V1)\n",
        "sns.distplot(V2)"
      ],
      "execution_count": 11,
      "outputs": [
        {
          "output_type": "stream",
          "text": [
            "/usr/local/lib/python3.6/dist-packages/seaborn/distributions.py:2551: FutureWarning: `distplot` is a deprecated function and will be removed in a future version. Please adapt your code to use either `displot` (a figure-level function with similar flexibility) or `histplot` (an axes-level function for histograms).\n",
            "  warnings.warn(msg, FutureWarning)\n",
            "/usr/local/lib/python3.6/dist-packages/seaborn/distributions.py:2551: FutureWarning: `distplot` is a deprecated function and will be removed in a future version. Please adapt your code to use either `displot` (a figure-level function with similar flexibility) or `histplot` (an axes-level function for histograms).\n",
            "  warnings.warn(msg, FutureWarning)\n"
          ],
          "name": "stderr"
        },
        {
          "output_type": "execute_result",
          "data": {
            "text/plain": [
              "<matplotlib.axes._subplots.AxesSubplot at 0x7f573a14ee80>"
            ]
          },
          "metadata": {
            "tags": []
          },
          "execution_count": 11
        },
        {
          "output_type": "display_data",
          "data": {
            "image/png": "[encoded data removed]",
            "text/plain": [
              "<Figure size 432x288 with 1 Axes>"
            ]
          },
          "metadata": {
            "tags": [],
            "needs_background": "light"
          }
        }
      ]
    },
    {
      "cell_type": "markdown",
      "metadata": {
        "id": "gzwJeiq-aLCA"
      },
      "source": [
        "R-Sim, possuem distribuição normal"
      ]
    },
    {
      "cell_type": "markdown",
      "metadata": {
        "id": "r3qjfW0EaTsB"
      },
      "source": [
        "H1- a média dos 3 primeiros valores de cada variável não seguem uma distribuição normal?"
      ]
    },
    {
      "cell_type": "code",
      "metadata": {
        "id": "HTmPlVjgcJsD",
        "outputId": "ee3d04fd-7b39-468b-e78c-06719a9d7f45",
        "colab": {
          "base_uri": "https://localhost:8080/",
          "height": 374
        }
      },
      "source": [
        "sns.distplot([1,2,5]) # V1\n",
        "sns.distplot([-5,25,10]) # V2"
      ],
      "execution_count": 17,
      "outputs": [
        {
          "output_type": "stream",
          "text": [
            "/usr/local/lib/python3.6/dist-packages/seaborn/distributions.py:2551: FutureWarning: `distplot` is a deprecated function and will be removed in a future version. Please adapt your code to use either `displot` (a figure-level function with similar flexibility) or `histplot` (an axes-level function for histograms).\n",
            "  warnings.warn(msg, FutureWarning)\n",
            "/usr/local/lib/python3.6/dist-packages/seaborn/distributions.py:2551: FutureWarning: `distplot` is a deprecated function and will be removed in a future version. Please adapt your code to use either `displot` (a figure-level function with similar flexibility) or `histplot` (an axes-level function for histograms).\n",
            "  warnings.warn(msg, FutureWarning)\n"
          ],
          "name": "stderr"
        },
        {
          "output_type": "execute_result",
          "data": {
            "text/plain": [
              "<matplotlib.axes._subplots.AxesSubplot at 0x7f573198c7b8>"
            ]
          },
          "metadata": {
            "tags": []
          },
          "execution_count": 17
        },
        {
          "output_type": "display_data",
          "data": {
            "image/png": "[encoded data removed]",
            "text/plain": [
              "<Figure size 432x288 with 1 Axes>"
            ]
          },
          "metadata": {
            "tags": [],
            "needs_background": "light"
          }
        }
      ]
    },
    {
      "cell_type": "markdown",
      "metadata": {
        "id": "lrGoR909c00V"
      },
      "source": [
        "R- não seguem uma distribuição normal."
      ]
    },
    {
      "cell_type": "markdown",
      "metadata": {
        "id": "VYNGWuXtdPp7"
      },
      "source": [
        "6) Cite 2 técnicas para remoção de ruídos e, para cada uma, mostre uma\n",
        "vantagem e uma desvantagem. (1 ponto)\n",
        "\n",
        "R-Historigrama \n",
        "\n",
        "  vantagem- fácil implementação\n",
        "\n",
        "  desvantagem - apenas para dados que seguem distribuição normal\n",
        "\n",
        "R-Regressao Linear\n",
        "\n",
        "  vantagem - simples e de fácil implementação\n",
        "\n",
        "  desvantagem - os dados devem ser independentes"
      ]
    },
    {
      "cell_type": "markdown",
      "metadata": {
        "id": "BDCkQ2HDidMh"
      },
      "source": [
        "7) Qual é a importância de utilizar as seguintes abordagens de redução de\n",
        "dados no contexto de Ciência dos Dados?\n",
        "\n",
        "a. Redução de dimensionalidade (0,5 ponto)\n",
        "\n",
        "  R- Para analisar e reduzir as características irrelevantes em uma determinada entrada de dados.\n",
        "\n",
        "b. Redução de numerosidade (0,5 ponto)\n",
        "\n",
        "  R- Permite utilizar de técnicas de amostragem para se obter resultados estimados a partir de alternativas de representação de dados menores"
      ]
    }
  ]
}