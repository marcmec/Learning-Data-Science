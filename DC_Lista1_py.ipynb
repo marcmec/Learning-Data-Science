{
  "nbformat": 4,
  "nbformat_minor": 0,
  "metadata": {
    "colab": {
      "name": "DC-Lista1.py",
      "provenance": [],
      "authorship_tag": "ABX9TyPyYXeLSyVGywPgO2oHOIIS",
      "include_colab_link": true
    },
    "kernelspec": {
      "name": "python3",
      "display_name": "Python 3"
    }
  },
  "cells": [
    {
      "cell_type": "markdown",
      "metadata": {
        "id": "view-in-github",
        "colab_type": "text"
      },
      "source": [
        "<a href=\"https://colab.research.google.com/github/marcmec/Learning-Data-Science/blob/main/DC_Lista1_py.ipynb\" target=\"_parent\"><img src=\"https://colab.research.google.com/assets/colab-badge.svg\" alt=\"Open In Colab\"/></a>"
      ]
    },
    {
      "cell_type": "code",
      "metadata": {
        "id": "UDlDg0vny5p8"
      },
      "source": [
        "import numpy as np\n",
        "import matplotlib.pyplot as plt\n"
      ],
      "execution_count": null,
      "outputs": []
    },
    {
      "cell_type": "code",
      "metadata": {
        "id": "p2XtG7M35OnB"
      },
      "source": [
        "V1= [1,2,5,10,25,34]\n",
        "V2= [-5,25,10,4,16,8]"
      ],
      "execution_count": null,
      "outputs": []
    },
    {
      "cell_type": "code",
      "metadata": {
        "id": "8QSOsKrA5YHm"
      },
      "source": [
        "def media():\n",
        "  print('média de V1')\n",
        "  print(np.mean(V1),'\\n')\n",
        "  print('média V2')\n",
        "  print(np.mean(V2))\n",
        "def mediana():\n",
        "  print('mediana de V1')\n",
        "  print(np.median(V1),'\\n')\n",
        "  print('mediana de V2')\n",
        "  print(np.median(V2))\n",
        "  "
      ],
      "execution_count": null,
      "outputs": []
    },
    {
      "cell_type": "code",
      "metadata": {
        "id": "hGtCBRlX5SVl"
      },
      "source": [
        "print(media())\n",
        "print(mediana())"
      ],
      "execution_count": null,
      "outputs": []
    },
    {
      "cell_type": "code",
      "metadata": {
        "id": "LXtsvKwa4-bE",
        "outputId": "bab7b29d-3328-4ce9-f4d9-582603ed29e8",
        "colab": {
          "base_uri": "https://localhost:8080/",
          "height": 483
        }
      },
      "source": [
        "plt.figure(figsize=[10,8])\n",
        "n, bins, patches = plt.hist([V1, V2])\n",
        "plt.show()"
      ],
      "execution_count": null,
      "outputs": [
        {
          "output_type": "display_data",
          "data": {
            "image/png": "[encoded data removed]",
            "text/plain": [
              "<Figure size 720x576 with 1 Axes>"
            ]
          },
          "metadata": {
            "tags": [],
            "needs_background": "light"
          }
        }
      ]
    }
  ]
}