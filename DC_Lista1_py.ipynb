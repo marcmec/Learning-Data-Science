{
  "nbformat": 4,
  "nbformat_minor": 0,
  "metadata": {
    "colab": {
      "name": "DC-Lista1.py",
      "provenance": [],
      "authorship_tag": "ABX9TyNzbtk/Bm9F0K4/A0mUwps5",
      "include_colab_link": true
    },
    "kernelspec": {
      "name": "python3",
      "display_name": "Python 3"
    }
  },
  "cells": [
    {
      "cell_type": "markdown",
      "metadata": {
        "id": "view-in-github",
        "colab_type": "text"
      },
      "source": [
        "<a href=\"https://colab.research.google.com/github/marcmec/Learning-Data-Science/blob/main/DC_Lista1_py.ipynb\" target=\"_parent\"><img src=\"https://colab.research.google.com/assets/colab-badge.svg\" alt=\"Open In Colab\"/></a>"
      ]
    },
    {
      "cell_type": "markdown",
      "metadata": {
        "id": "lObpcEQBYTE9"
      },
      "source": [
        "Lista 1\n",
        "\n",
        "Marcos Vinícius Silva Bento\n",
        "\n",
        "PPGI- CIÊNCIA DE DADOS\n",
        "\n",
        "Bruno Almeida Pimentel"
      ]
    },
    {
      "cell_type": "markdown",
      "metadata": {
        "id": "jj2niYkjYqdF"
      },
      "source": [
        "1) Qual a diferença entre Big Data e Ciência de Dados? (0,5 ponto)\n",
        "Utilizando os pilares do 4 V's :\n",
        "1- Volume \n",
        "\n",
        "2-Velocidade\n",
        "\n",
        "3- Variedade\n",
        "\n",
        "4- Veracidade.\n",
        "\n",
        "Através desses pilares, big data trata grandes quantidades de dados(1) da forma mais rápida possível (2), com uma variedade de informações(dados) (3) e tudo isso com dados verdadeiros (4). Então Big data é uma área de conhecimento, que estuda maneiras de se aplicar esses 4 pilares, e a partir desses dados executar alguma ação em alguma área que gere/receba dados.\n",
        "\n",
        "Já Ciência de Dados é outra área de conhecimentos que se utiliza da Big Data, estatísticas e realiza através de algumas técnicas específicas, análise de dados, assim, ciência de dados é utilizado para melhor tratar os dados, muito utilizada para identificar padrões e predizer resultados.\n"
      ]
    },
    {
      "cell_type": "markdown",
      "metadata": {
        "id": "ykZVI68h3LIn"
      },
      "source": [
        "2) De que forma Estatística, Mineração de Dados e Aprendizagem de\n",
        "Máquina interagem com Ciência de Dados? (1 ponto)\n",
        "\n",
        "Assim como na questão 1, ciência de dados reúne técnicas em que uma depende da outra para realizar suas ações, supondo que tenhamos uma situação que tenha uma grande quantidade de dados variados, aplica-se a mineração de dados, para uma melhor acertividade, utiliza-se métodos estatísticos, tais como regressão linear, por exemplo, para poder separar os outliers, e por último pode-se utilizar através de uma técnica de aprendizado de máquina (derivada da inteligência artificial), assim aplica-se ciêcia de dados, e o objetivo dependerá do desenvolvedor, o que normalmente é feito, aplica-se essas técnicas e faz-se uma predição em possíveis ambientes/situações."
      ]
    },
    {
      "cell_type": "code",
      "metadata": {
        "id": "UDlDg0vny5p8"
      },
      "source": [
        "import numpy as np\n",
        "import matplotlib.pyplot as plt\n"
      ],
      "execution_count": null,
      "outputs": []
    },
    {
      "cell_type": "code",
      "metadata": {
        "id": "p2XtG7M35OnB"
      },
      "source": [
        "V1= [1,2,5,10,25,34]\n",
        "V2= [-5,25,10,4,16,8]"
      ],
      "execution_count": null,
      "outputs": []
    },
    {
      "cell_type": "code",
      "metadata": {
        "id": "8QSOsKrA5YHm"
      },
      "source": [
        "def media():\n",
        "  print('média de V1')\n",
        "  print(np.mean(V1),'\\n')\n",
        "  print('média V2')\n",
        "  print(np.mean(V2))\n",
        "  return\n",
        "def mediana():\n",
        "  print('mediana de V1')\n",
        "  print(np.median(V1),'\\n')\n",
        "  print('mediana de V2')\n",
        "  print(np.median(V2))\n",
        "  return\n",
        "  "
      ],
      "execution_count": null,
      "outputs": []
    },
    {
      "cell_type": "code",
      "metadata": {
        "id": "hGtCBRlX5SVl",
        "outputId": "39a5660d-8524-41bb-baf9-dd56a4c7ad59",
        "colab": {
          "base_uri": "https://localhost:8080/"
        }
      },
      "source": [
        "media()\n",
        "\n",
        "mediana()"
      ],
      "execution_count": null,
      "outputs": [
        {
          "output_type": "stream",
          "text": [
            "média de V1\n",
            "12.833333333333334 \n",
            "\n",
            "média V2\n",
            "9.666666666666666\n",
            "mediana de V1\n",
            "7.5 \n",
            "\n",
            "mediana de V2\n",
            "9.0\n"
          ],
          "name": "stdout"
        }
      ]
    },
    {
      "cell_type": "code",
      "metadata": {
        "id": "LXtsvKwa4-bE"
      },
      "source": [
        "plt.figure(figsize=[10,8])\n",
        "n, bins, patches = plt.hist([V1, V2])\n",
        "plt.show()"
      ],
      "execution_count": null,
      "outputs": []
    },
    {
      "cell_type": "code",
      "metadata": {
        "id": "SZ2lYzyGW84G"
      },
      "source": [
        ""
      ],
      "execution_count": null,
      "outputs": []
    }
  ]
}